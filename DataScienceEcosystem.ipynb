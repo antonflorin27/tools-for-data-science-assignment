{
 "cells": [
  {
   "cell_type": "markdown",
   "id": "14b75d4e-34fd-45b0-8cf9-20ca2efaa908",
   "metadata": {},
   "source": [
    "# Data Science Tools and Ecosystem"
   ]
  },
  {
   "cell_type": "markdown",
   "id": "055fbbe3-5e23-4511-adc2-99b4e9b6b878",
   "metadata": {},
   "source": [
    "In this Notebook, Data Science Tools and Ecosystem are sumarized."
   ]
  },
  {
   "cell_type": "markdown",
   "id": "2599b07f-11d5-4344-9609-a5c172963b33",
   "metadata": {},
   "source": [
    "**Objectives:**\n",
    "-  List popular languages for Data Science \n",
    "-  List commonly used data libraries in Data Science\n",
    "-  Create a table with Data Science Tools\n",
    "-  Create code lines containing arithmetic expressions "
   ]
  },
  {
   "cell_type": "markdown",
   "id": "22139284-b9e8-4e81-8a76-0607a510cfc7",
   "metadata": {},
   "source": [
    "Some of the popular languages that Data Scientist use are:"
   ]
  },
  {
   "cell_type": "markdown",
   "id": "232102ad-a057-4eb7-a155-f23a39e83416",
   "metadata": {},
   "source": [
    "1. Python\n",
    "2. R\n",
    "3. SQL\n",
    "4. Scala\n",
    "5. JAVA"
   ]
  },
  {
   "cell_type": "markdown",
   "id": "2bf38387-92b4-4112-9d64-5ec695c892bc",
   "metadata": {},
   "source": [
    "Some of the commonly used data libraries used by Data Scientists include:"
   ]
  },
  {
   "cell_type": "markdown",
   "id": "bf5e3b55-65fe-401d-b2b2-31fe5808f250",
   "metadata": {},
   "source": [
    "1. NumPy\n",
    "2. SciPy\n",
    "3. PyTorch\n",
    "4. Pandas\n",
    "5. MatPlotLib"
   ]
  },
  {
   "cell_type": "markdown",
   "id": "fa609c3f-b199-47fa-8d52-718f82c261f2",
   "metadata": {},
   "source": [
    "| Data Science Tools |\n",
    "|:---|\n",
    "| Apache Spark |\n",
    "| Apache Hadoop |\n",
    "| Tensor Flow |"
   ]
  },
  {
   "cell_type": "markdown",
   "id": "e81277ec-0cb7-4a25-8020-3e24b5138337",
   "metadata": {},
   "source": [
    "### Below are a few examples of evaluating arithmetic expressions in Python."
   ]
  },
  {
   "cell_type": "code",
   "execution_count": 28,
   "id": "4c66d753-0860-4374-9c15-049775433a2d",
   "metadata": {},
   "outputs": [
    {
     "data": {
      "text/plain": [
       "17"
      ]
     },
     "execution_count": 28,
     "metadata": {},
     "output_type": "execute_result"
    }
   ],
   "source": [
    "# This a simple arithmetic expression to mutiply then add integers\n",
    "(3*4)+5"
   ]
  },
  {
   "cell_type": "code",
   "execution_count": 32,
   "id": "4feaeaa9-598f-4725-92e0-a04f0c5a4120",
   "metadata": {},
   "outputs": [
    {
     "data": {
      "text/plain": [
       "3.3333333333333335"
      ]
     },
     "execution_count": 32,
     "metadata": {},
     "output_type": "execute_result"
    }
   ],
   "source": [
    "# This will convert 200 minutes to hours by diving by 60\n",
    "200/60"
   ]
  },
  {
   "cell_type": "markdown",
   "id": "8370c2f6-3980-43ad-8512-310be1896161",
   "metadata": {},
   "source": [
    "## Author\n",
    "Florin Anton"
   ]
  },
  {
   "cell_type": "code",
   "execution_count": null,
   "id": "33855ed0-6f80-4865-8cd5-f0c10b9eb5a1",
   "metadata": {},
   "outputs": [],
   "source": []
  }
 ],
 "metadata": {
  "kernelspec": {
   "display_name": "Python [conda env:base] *",
   "language": "python",
   "name": "conda-base-py"
  },
  "language_info": {
   "codemirror_mode": {
    "name": "ipython",
    "version": 3
   },
   "file_extension": ".py",
   "mimetype": "text/x-python",
   "name": "python",
   "nbconvert_exporter": "python",
   "pygments_lexer": "ipython3",
   "version": "3.12.7"
  }
 },
 "nbformat": 4,
 "nbformat_minor": 5
}
